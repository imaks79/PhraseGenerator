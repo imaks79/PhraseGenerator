{
 "cells": [
  {
   "cell_type": "markdown",
   "id": "c485dee7-a7e9-4ae9-a5bf-2c0016aa763f",
   "metadata": {},
   "source": [
    "# Простая мнемоника"
   ]
  },
  {
   "cell_type": "code",
   "execution_count": 1,
   "id": "3dd9565b-10eb-4ee9-9826-bfb182141e96",
   "metadata": {
    "tags": []
   },
   "outputs": [],
   "source": [
    "import pandas as pd\n",
    "from numba import njit, jit\n",
    "import hashlib, binascii\n",
    "import os, time, random\n",
    "from numba import njit, jit"
   ]
  },
  {
   "cell_type": "code",
   "execution_count": 2,
   "id": "35c05333-2f4c-4737-bcf6-413d1aca0ce6",
   "metadata": {
    "tags": []
   },
   "outputs": [],
   "source": [
    "from bip_utils import (\n",
    "    Bip39MnemonicGenerator, Bip39MnemonicDecoder, Bip39SeedGenerator,\n",
    "    Bip39WordsNum, Bip39Languages,\n",
    "    Bip44, Bip44Coins, Bip44Changes,\n",
    "    Bip49, Bip49Coins,\n",
    "    Bip84, Bip84Coins,\n",
    "    Bip86, Bip86Coins,\n",
    "    Bip32Slip10Secp256k1, EthAddrEncoder\n",
    ")"
   ]
  },
  {
   "cell_type": "code",
   "execution_count": 5,
   "id": "d5dd01b3-8c78-4906-b810-ef3ffbe19129",
   "metadata": {
    "tags": []
   },
   "outputs": [],
   "source": [
    "BTC_PATH = os.path.join('data','btc.txt'); \n",
    "ENG_PATH = os.path.join('data', 'english.txt');"
   ]
  },
  {
   "cell_type": "code",
   "execution_count": 7,
   "id": "ccdf6620-cbb2-4221-94f5-640ab9073c02",
   "metadata": {
    "tags": []
   },
   "outputs": [],
   "source": [
    "add_set = pd.read_csv(BTC_PATH, sep = \" \", header = None)[0];\n",
    "words = pd.read_csv(ENG_PATH, sep = \" \", header = None)[0];"
   ]
  },
  {
   "cell_type": "code",
   "execution_count": 10,
   "id": "53b3dc44-e7fd-41c4-8f4b-69bb88ff9107",
   "metadata": {
    "tags": []
   },
   "outputs": [],
   "source": [
    "# Консольные сообщения        \n",
    "# getmsg();\n",
    "# getmsg(list(add_set));"
   ]
  },
  {
   "cell_type": "code",
   "execution_count": 11,
   "id": "b74ad2cd-b708-4e61-8d99-562a75581889",
   "metadata": {
    "tags": []
   },
   "outputs": [],
   "source": [
    "# TODO: Убрать лишние переменные (!)\n",
    "# with open(ENG_PATH, 'r') as f:\n",
    "#     i = 0;\n",
    "#     for word in f:\n",
    "#         nums[word.strip()] = i;\n",
    "#         wordlist.append(word.strip());\n",
    "#         i += 1;"
   ]
  },
  {
   "cell_type": "markdown",
   "id": "601c1cda-89d3-449f-9b47-af94f5f75c3c",
   "metadata": {},
   "source": [
    "Добавить запись ключа в файл"
   ]
  },
  {
   "cell_type": "code",
   "execution_count": 12,
   "id": "30c6f5f2-4008-4529-beb8-adaf74872582",
   "metadata": {
    "tags": []
   },
   "outputs": [],
   "source": [
    "@njit(parallel = True)\n",
    "def crypt(add_set, words, nums):\n",
    "    # while True:\n",
    "    # все что ниже крутится в цикле\n",
    "    \n",
    "    wordlist = ' '.join(random.sample(list(words), 11)).split();\n",
    "    \n",
    "    if len(wordlist) == 11:\n",
    "        for i in range(2048):\n",
    "            cand = wordlist + [words[i]];\n",
    "            result = ' '.join(cand);\n",
    "            if isOk(cand, nums):\n",
    "                result, seed44, seed49, seed84, seed86 = seedgenerator(wordlist);\n",
    "    %%timeit"
   ]
  },
  {
   "cell_type": "markdown",
   "id": "95ce6c24-62a1-429c-a55e-a00c3f0ff585",
   "metadata": {
    "tags": []
   },
   "source": [
    "Убрать переменную `nums`"
   ]
  },
  {
   "cell_type": "code",
   "execution_count": 13,
   "id": "86a97267-8cdc-4e22-8af7-cc23b2731cf9",
   "metadata": {
    "tags": []
   },
   "outputs": [],
   "source": [
    "def isOk(ws, nums):\n",
    "    N = 0;\n",
    "    for w in ws:\n",
    "        # TODO: Переделать получение значения по \"слову-ключу\"\n",
    "        N = (N << 11) + nums.get(w.lower(), 0);\n",
    "    nhex = format(N, '033x');\n",
    "    h = hashlib.sha256(binascii.unhexlify(nhex[:-1])).hexdigest();\n",
    "    return h[0] == nhex[-1];"
   ]
  },
  {
   "cell_type": "code",
   "execution_count": 71,
   "id": "c864f800-3f63-403b-984e-587a392582af",
   "metadata": {
    "tags": []
   },
   "outputs": [],
   "source": [
    "def seedgenerator(ddd):\n",
    "    seed_bytes = Bip39SeedGenerator(result).Generate();\n",
    "    # TODO: threadin 1\n",
    "    bip44_mst_ctx = Bip44.FromSeed(seed_bytes, Bip44Coins.BITCOIN);\n",
    "    bip44_acc_ctx = bip44_mst_ctx.Purpose().Coin().Account(0);\n",
    "    bip44_chg_ctx = bip44_acc_ctx.Change(Bip44Changes.CHAIN_EXT);\n",
    "    # TODO: threadin 2\n",
    "    bip49_mst_ctx = Bip49.FromSeed(seed_bytes, Bip49Coins.BITCOIN);\n",
    "    bip49_acc_ctx = bip49_mst_ctx.Purpose().Coin().Account(0);\n",
    "    bip49_chg_ctx = bip49_acc_ctx.Change(Bip44Changes.CHAIN_EXT);\n",
    "    # TODO: threadin 3\n",
    "    bip84_mst_ctx = Bip84.FromSeed(seed_bytes, Bip84Coins.BITCOIN);\n",
    "    bip84_acc_ctx = bip84_mst_ctx.Purpose().Coin().Account(0);\n",
    "    bip84_chg_ctx = bip84_acc_ctx.Change(Bip44Changes.CHAIN_EXT);\n",
    "    # TODO: threadin 4\n",
    "    bip86_mst_ctx = Bip86.FromSeed(seed_bytes, Bip86Coins.BITCOIN);\n",
    "    bip86_acc_ctx = bip86_mst_ctx.Purpose().Coin().Account(0);\n",
    "    bip86_chg_ctx = bip86_acc_ctx.Change(Bip44Changes.CHAIN_EXT);\n",
    "    print(result);\n",
    "    for i in range(20):\n",
    "        # TODO: bip32_der_ctx = bip32_mst_eth.DerivePath(\"m/44'/60'/0'/0/\" + str(i))\n",
    "\n",
    "        # TODO: threadin 1\n",
    "        bip44_addr_ctx = bip44_chg_ctx.AddressIndex(i);\n",
    "        seed44 = bip44_addr_ctx.PublicKey().ToAddress();\n",
    "        # TODO: threadin 2\n",
    "        bip49_addr_ctx = bip49_chg_ctx.AddressIndex(i);\n",
    "        seed49 = bip49_addr_ctx.PublicKey().ToAddress();\n",
    "        # TODO: threadin 3\n",
    "        bip84_addr_ctx = bip84_chg_ctx.AddressIndex(i);\n",
    "        seed84 = bip84_addr_ctx.PublicKey().ToAddress();\n",
    "        # TODO: threadin 4\n",
    "        bip86_addr_ctx = bip86_chg_ctx.AddressIndex(i);\n",
    "        seed86 = bip86_addr_ctx.PublicKey().ToAddress();\n",
    "\n",
    "        # TODO: eth_addr = EthAddrEncoder.EncodeKey(bip32_der_ctx.PublicKey().KeyObject())\n",
    "        # TODO: eth = ((eth_addr) [2:]) # если ваши адреса ETH начинаются без 0x в начале\n",
    "\n",
    "        # TODO: Раскоментировать стоку ниже, если ваши адреса ETH начинаются с 0x\n",
    "        # TODO: eth = ((eth_addr)) # если ваши адреса ETH начинаются c 0x в начале\n",
    "\n",
    "        # TODO: ПЕРЕДЕЛАТЬ НА PANDAS\n",
    "        if seed44 in add_set or seed49 in add_set or seed84 in add_set or seed86 in add_set:\n",
    "            print(result);\n",
    "            return result, seed44, seed49, seed84, seed86;\n",
    "            # d = open(f\"seed.txt\",\"a\");\n",
    "            # d.write(str(result) + '\\n' + str(seed44) + '\\n'+ str(seed49) + '\\n'+ str(seed84) + '\\n'+ str(seed86) + '\\n');\n",
    "            # d.flush();\n",
    "            # d.close();\n",
    "        elif len(ddd) == 12: print('OK' if isOk(ddd, nums) else 'Invalid', 'wordlist checksum');"
   ]
  }
 ],
 "metadata": {
  "kernelspec": {
   "display_name": "Python 3 (ipykernel)",
   "language": "python",
   "name": "python3"
  },
  "language_info": {
   "codemirror_mode": {
    "name": "ipython",
    "version": 3
   },
   "file_extension": ".py",
   "mimetype": "text/x-python",
   "name": "python",
   "nbconvert_exporter": "python",
   "pygments_lexer": "ipython3",
   "version": "3.10.10"
  }
 },
 "nbformat": 4,
 "nbformat_minor": 5
}
