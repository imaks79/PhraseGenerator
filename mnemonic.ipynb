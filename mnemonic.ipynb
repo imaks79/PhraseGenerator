{
 "cells": [
  {
   "cell_type": "code",
   "execution_count": 1,
   "id": "3dd9565b-10eb-4ee9-9826-bfb182141e96",
   "metadata": {
    "tags": []
   },
   "outputs": [],
   "source": [
    "import pandas as pd\n",
    "import hashlib, binascii\n",
    "import os, time, random\n",
    "\n",
    "import numba\n",
    "from numba import njit, jit, cuda\n",
    "\n",
    "from tqdm import trange"
   ]
  },
  {
   "cell_type": "code",
   "execution_count": 2,
   "id": "35c05333-2f4c-4737-bcf6-413d1aca0ce6",
   "metadata": {
    "tags": []
   },
   "outputs": [],
   "source": [
    "from bip_utils import (\n",
    "    Bip39MnemonicGenerator, Bip39MnemonicDecoder, Bip39SeedGenerator,\n",
    "    Bip39WordsNum, Bip39Languages,\n",
    "    Bip44, Bip44Coins, Bip44Changes,\n",
    "    Bip49, Bip49Coins,\n",
    "    Bip84, Bip84Coins,\n",
    "    Bip86, Bip86Coins,\n",
    "    Bip32Slip10Secp256k1, EthAddrEncoder\n",
    ")"
   ]
  },
  {
   "cell_type": "code",
   "execution_count": 3,
   "id": "d5dd01b3-8c78-4906-b810-ef3ffbe19129",
   "metadata": {
    "tags": []
   },
   "outputs": [],
   "source": [
    "BTC_PATH = os.path.join('data','btc.txt');\n",
    "ENG_PATH = os.path.join('data', 'english.txt');"
   ]
  },
  {
   "cell_type": "code",
   "execution_count": 4,
   "id": "ccdf6620-cbb2-4221-94f5-640ab9073c02",
   "metadata": {
    "tags": []
   },
   "outputs": [],
   "source": [
    "add_set = pd.read_csv(BTC_PATH, sep = \" \", header = None)[0];\n",
    "words = pd.read_csv(ENG_PATH, sep = \" \", header = None)[0];"
   ]
  },
  {
   "cell_type": "code",
   "execution_count": 5,
   "id": "53b3dc44-e7fd-41c4-8f4b-69bb88ff9107",
   "metadata": {
    "tags": []
   },
   "outputs": [],
   "source": [
    "# Консольные сообщения        \n",
    "# getmsg();\n",
    "# getmsg(list(add_set));"
   ]
  },
  {
   "cell_type": "code",
   "execution_count": 6,
   "id": "30c6f5f2-4008-4529-beb8-adaf74872582",
   "metadata": {
    "tags": []
   },
   "outputs": [],
   "source": [
    "# @jit(forceobj = True)\n",
    "# @jit(nopython = True)\n",
    "@njit\n",
    "def crypt(add_set, words):\n",
    "    # while True:\n",
    "    wordlist = ' '.join(random.sample(list(words), 11)).split();\n",
    "    if len(wordlist) == 11:\n",
    "        for i in trange(2048, desc = 'Идет поиск'):\n",
    "            cand = wordlist + [words[i]];\n",
    "            result = ' '.join(cand);\n",
    "            if isOk(cand, words):\n",
    "                seedgenerator(wordlist, result);"
   ]
  },
  {
   "cell_type": "code",
   "execution_count": 7,
   "id": "86a97267-8cdc-4e22-8af7-cc23b2731cf9",
   "metadata": {
    "tags": []
   },
   "outputs": [],
   "source": [
    "def isOk(ws, words):\n",
    "    N = 0;\n",
    "    for w in ws:\n",
    "        N = (N << 11) + words.index[words == w.lower()].tolist()[0];\n",
    "    nhex = format(N, '033x');\n",
    "    h = hashlib.sha256(binascii.unhexlify(nhex[:-1])).hexdigest();\n",
    "    return h[0] == nhex[-1];"
   ]
  },
  {
   "cell_type": "code",
   "execution_count": 8,
   "id": "c864f800-3f63-403b-984e-587a392582af",
   "metadata": {
    "tags": []
   },
   "outputs": [],
   "source": [
    "def seedgenerator(ddd, result):\n",
    "    seed_bytes = Bip39SeedGenerator(result).Generate();\n",
    "    # TODO: threadin 1\n",
    "    bip44_mst_ctx = Bip44.FromSeed(seed_bytes, Bip44Coins.BITCOIN);\n",
    "    bip44_acc_ctx = bip44_mst_ctx.Purpose().Coin().Account(0);\n",
    "    bip44_chg_ctx = bip44_acc_ctx.Change(Bip44Changes.CHAIN_EXT);\n",
    "    # TODO: threadin 2\n",
    "    bip49_mst_ctx = Bip49.FromSeed(seed_bytes, Bip49Coins.BITCOIN);\n",
    "    bip49_acc_ctx = bip49_mst_ctx.Purpose().Coin().Account(0);\n",
    "    bip49_chg_ctx = bip49_acc_ctx.Change(Bip44Changes.CHAIN_EXT);\n",
    "    # TODO: threadin 3\n",
    "    bip84_mst_ctx = Bip84.FromSeed(seed_bytes, Bip84Coins.BITCOIN);\n",
    "    bip84_acc_ctx = bip84_mst_ctx.Purpose().Coin().Account(0);\n",
    "    bip84_chg_ctx = bip84_acc_ctx.Change(Bip44Changes.CHAIN_EXT);\n",
    "    # TODO: threadin 4\n",
    "    bip86_mst_ctx = Bip86.FromSeed(seed_bytes, Bip86Coins.BITCOIN);\n",
    "    bip86_acc_ctx = bip86_mst_ctx.Purpose().Coin().Account(0);\n",
    "    bip86_chg_ctx = bip86_acc_ctx.Change(Bip44Changes.CHAIN_EXT);\n",
    "    # print(result);\n",
    "    for i in range(20):\n",
    "        # TODO: bip32_der_ctx = bip32_mst_eth.DerivePath(\"m/44'/60'/0'/0/\" + str(i))\n",
    "\n",
    "        # TODO: threadin 1\n",
    "        bip44_addr_ctx = bip44_chg_ctx.AddressIndex(i);\n",
    "        seed44 = bip44_addr_ctx.PublicKey().ToAddress();\n",
    "        \n",
    "        # TODO: threadin 2\n",
    "        bip49_addr_ctx = bip49_chg_ctx.AddressIndex(i);\n",
    "        seed49 = bip49_addr_ctx.PublicKey().ToAddress();\n",
    "        \n",
    "        # TODO: threadin 3\n",
    "        bip84_addr_ctx = bip84_chg_ctx.AddressIndex(i);\n",
    "        seed84 = bip84_addr_ctx.PublicKey().ToAddress();\n",
    "        \n",
    "        # TODO: threadin 4\n",
    "        bip86_addr_ctx = bip86_chg_ctx.AddressIndex(i);\n",
    "        seed86 = bip86_addr_ctx.PublicKey().ToAddress();\n",
    "\n",
    "        # TODO: eth_addr = EthAddrEncoder.EncodeKey(bip32_der_ctx.PublicKey().KeyObject())\n",
    "        # TODO: eth = ((eth_addr) [2:]) # если ваши адреса ETH начинаются без 0x в начале\n",
    "\n",
    "        # TODO: Раскоментировать стоку ниже, если ваши адреса ETH начинаются с 0x\n",
    "        # TODO: eth = ((eth_addr)) # если ваши адреса ETH начинаются c 0x в начале\n",
    "\n",
    "        # TODO: ПЕРЕДЕЛАТЬ НА PANDAS\n",
    "        if seed44 in add_set or seed49 in add_set or seed84 in add_set or seed86 in add_set:\n",
    "            # print(result);\n",
    "            d = open(f\"seed.txt\",\"a\");\n",
    "            d.write(str(result) + '\\n' + str(seed44) + '\\n'+ str(seed49) + '\\n'+ str(seed84) + '\\n'+ str(seed86) + '\\n');\n",
    "            d.flush();\n",
    "            d.close();\n",
    "        elif len(ddd) == 12: print('OK' if isOk(ddd, nums) else 'Invalid', 'wordlist checksum');"
   ]
  },
  {
   "cell_type": "code",
   "execution_count": 9,
   "id": "6fdd180b-f956-4812-bda1-2f0167dd1e89",
   "metadata": {
    "tags": []
   },
   "outputs": [
    {
     "ename": "TypingError",
     "evalue": "Failed in nopython mode pipeline (step: nopython frontend)\n\u001b[1mUntyped global name 'trange':\u001b[0m \u001b[1m\u001b[1mCannot determine Numba type of <class 'function'>\u001b[0m\n\u001b[1m\nFile \"../../../../../tmp/ipykernel_14039/2848882000.py\", line 8:\u001b[0m\n\u001b[1m<source missing, REPL/exec in use?>\u001b[0m\n\u001b[0m \n\nThis error may have been caused by the following argument(s):\n- argument 0: \u001b[1mCannot determine Numba type of <class 'pandas.core.series.Series'>\u001b[0m\n- argument 1: \u001b[1mCannot determine Numba type of <class 'pandas.core.series.Series'>\u001b[0m\n",
     "output_type": "error",
     "traceback": [
      "\u001b[0;31m---------------------------------------------------------------------------\u001b[0m",
      "\u001b[0;31mTypingError\u001b[0m                               Traceback (most recent call last)",
      "File \u001b[0;32m<timed eval>:1\u001b[0m\n",
      "File \u001b[0;32m~/.local/lib/python3.10/site-packages/numba/core/dispatcher.py:468\u001b[0m, in \u001b[0;36m_DispatcherBase._compile_for_args\u001b[0;34m(self, *args, **kws)\u001b[0m\n\u001b[1;32m    464\u001b[0m         msg \u001b[38;5;241m=\u001b[39m (\u001b[38;5;124mf\u001b[39m\u001b[38;5;124m\"\u001b[39m\u001b[38;5;132;01m{\u001b[39;00m\u001b[38;5;28mstr\u001b[39m(e)\u001b[38;5;241m.\u001b[39mrstrip()\u001b[38;5;132;01m}\u001b[39;00m\u001b[38;5;124m \u001b[39m\u001b[38;5;130;01m\\n\u001b[39;00m\u001b[38;5;130;01m\\n\u001b[39;00m\u001b[38;5;124mThis error may have been caused \u001b[39m\u001b[38;5;124m\"\u001b[39m\n\u001b[1;32m    465\u001b[0m                \u001b[38;5;124mf\u001b[39m\u001b[38;5;124m\"\u001b[39m\u001b[38;5;124mby the following argument(s):\u001b[39m\u001b[38;5;130;01m\\n\u001b[39;00m\u001b[38;5;132;01m{\u001b[39;00margs_str\u001b[38;5;132;01m}\u001b[39;00m\u001b[38;5;130;01m\\n\u001b[39;00m\u001b[38;5;124m\"\u001b[39m)\n\u001b[1;32m    466\u001b[0m         e\u001b[38;5;241m.\u001b[39mpatch_message(msg)\n\u001b[0;32m--> 468\u001b[0m     \u001b[43merror_rewrite\u001b[49m\u001b[43m(\u001b[49m\u001b[43me\u001b[49m\u001b[43m,\u001b[49m\u001b[43m \u001b[49m\u001b[38;5;124;43m'\u001b[39;49m\u001b[38;5;124;43mtyping\u001b[39;49m\u001b[38;5;124;43m'\u001b[39;49m\u001b[43m)\u001b[49m\n\u001b[1;32m    469\u001b[0m \u001b[38;5;28;01mexcept\u001b[39;00m errors\u001b[38;5;241m.\u001b[39mUnsupportedError \u001b[38;5;28;01mas\u001b[39;00m e:\n\u001b[1;32m    470\u001b[0m     \u001b[38;5;66;03m# Something unsupported is present in the user code, add help info\u001b[39;00m\n\u001b[1;32m    471\u001b[0m     error_rewrite(e, \u001b[38;5;124m'\u001b[39m\u001b[38;5;124munsupported_error\u001b[39m\u001b[38;5;124m'\u001b[39m)\n",
      "File \u001b[0;32m~/.local/lib/python3.10/site-packages/numba/core/dispatcher.py:409\u001b[0m, in \u001b[0;36m_DispatcherBase._compile_for_args.<locals>.error_rewrite\u001b[0;34m(e, issue_type)\u001b[0m\n\u001b[1;32m    407\u001b[0m     \u001b[38;5;28;01mraise\u001b[39;00m e\n\u001b[1;32m    408\u001b[0m \u001b[38;5;28;01melse\u001b[39;00m:\n\u001b[0;32m--> 409\u001b[0m     \u001b[38;5;28;01mraise\u001b[39;00m e\u001b[38;5;241m.\u001b[39mwith_traceback(\u001b[38;5;28;01mNone\u001b[39;00m)\n",
      "\u001b[0;31mTypingError\u001b[0m: Failed in nopython mode pipeline (step: nopython frontend)\n\u001b[1mUntyped global name 'trange':\u001b[0m \u001b[1m\u001b[1mCannot determine Numba type of <class 'function'>\u001b[0m\n\u001b[1m\nFile \"../../../../../tmp/ipykernel_14039/2848882000.py\", line 8:\u001b[0m\n\u001b[1m<source missing, REPL/exec in use?>\u001b[0m\n\u001b[0m \n\nThis error may have been caused by the following argument(s):\n- argument 0: \u001b[1mCannot determine Numba type of <class 'pandas.core.series.Series'>\u001b[0m\n- argument 1: \u001b[1mCannot determine Numba type of <class 'pandas.core.series.Series'>\u001b[0m\n"
     ]
    }
   ],
   "source": [
    "%time crypt(add_set, wordrs);"
   ]
  }
 ],
 "metadata": {
  "kernelspec": {
   "display_name": "Python 3 (ipykernel)",
   "language": "python",
   "name": "python3"
  },
  "language_info": {
   "codemirror_mode": {
    "name": "ipython",
    "version": 3
   },
   "file_extension": ".py",
   "mimetype": "text/x-python",
   "name": "python",
   "nbconvert_exporter": "python",
   "pygments_lexer": "ipython3",
   "version": "3.10.10"
  }
 },
 "nbformat": 4,
 "nbformat_minor": 5
}
