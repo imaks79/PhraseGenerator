{
 "cells": [
  {
   "cell_type": "code",
   "execution_count": 1,
   "id": "3dd9565b-10eb-4ee9-9826-bfb182141e96",
   "metadata": {
    "tags": []
   },
   "outputs": [],
   "source": [
    "import pandas as pd\n",
    "import hashlib, binascii\n",
    "import os, time, random\n",
    "\n",
    "import numba\n",
    "from numba import njit, jit\n",
    "\n",
    "from tqdm import trange"
   ]
  },
  {
   "cell_type": "code",
   "execution_count": 2,
   "id": "35c05333-2f4c-4737-bcf6-413d1aca0ce6",
   "metadata": {
    "tags": []
   },
   "outputs": [],
   "source": [
    "from bip_utils import (\n",
    "    Bip39MnemonicGenerator, Bip39MnemonicDecoder, Bip39SeedGenerator,\n",
    "    Bip39WordsNum, Bip39Languages,\n",
    "    Bip44, Bip44Coins, Bip44Changes,\n",
    "    Bip49, Bip49Coins,\n",
    "    Bip84, Bip84Coins,\n",
    "    Bip86, Bip86Coins,\n",
    "    Bip32Slip10Secp256k1, EthAddrEncoder\n",
    ")"
   ]
  },
  {
   "cell_type": "code",
   "execution_count": 3,
   "id": "d5dd01b3-8c78-4906-b810-ef3ffbe19129",
   "metadata": {
    "tags": []
   },
   "outputs": [],
   "source": [
    "BTC_PATH = os.path.join('data','btc.txt');\n",
    "ENG_PATH = os.path.join('data', 'english.txt');"
   ]
  },
  {
   "cell_type": "code",
   "execution_count": 4,
   "id": "ccdf6620-cbb2-4221-94f5-640ab9073c02",
   "metadata": {
    "tags": []
   },
   "outputs": [],
   "source": [
    "add_set = pd.read_csv(BTC_PATH, sep = \" \", header = None)[0];\n",
    "words = pd.read_csv(ENG_PATH, sep = \" \", header = None)[0];"
   ]
  },
  {
   "cell_type": "code",
   "execution_count": 5,
   "id": "53b3dc44-e7fd-41c4-8f4b-69bb88ff9107",
   "metadata": {
    "tags": []
   },
   "outputs": [],
   "source": [
    "# Консольные сообщения        \n",
    "# getmsg();\n",
    "# getmsg(list(add_set));"
   ]
  },
  {
   "cell_type": "code",
   "execution_count": 6,
   "id": "30c6f5f2-4008-4529-beb8-adaf74872582",
   "metadata": {
    "tags": []
   },
   "outputs": [],
   "source": [
    "@jit(forceobj = True)\n",
    "def crypt(add_set, words):\n",
    "    # while True:\n",
    "    wordlist = ' '.join(random.sample(list(words), 11)).split();\n",
    "    if len(wordlist) == 11:\n",
    "        for i in trange(2048, desc = 'Идет поиск'):\n",
    "            cand = wordlist + [words[i]];\n",
    "            result = ' '.join(cand);\n",
    "            if isOk(cand, words):\n",
    "                seedgenerator(wordlist, result);"
   ]
  },
  {
   "cell_type": "code",
   "execution_count": 7,
   "id": "86a97267-8cdc-4e22-8af7-cc23b2731cf9",
   "metadata": {
    "tags": []
   },
   "outputs": [],
   "source": [
    "def isOk(ws, words):\n",
    "    N = 0;\n",
    "    for w in ws:\n",
    "        N = (N << 11) + words.index[words == w.lower()].tolist()[0];\n",
    "    nhex = format(N, '033x');\n",
    "    h = hashlib.sha256(binascii.unhexlify(nhex[:-1])).hexdigest();\n",
    "    return h[0] == nhex[-1];"
   ]
  },
  {
   "cell_type": "code",
   "execution_count": 8,
   "id": "c864f800-3f63-403b-984e-587a392582af",
   "metadata": {
    "tags": []
   },
   "outputs": [],
   "source": [
    "def seedgenerator(ddd, result):\n",
    "    seed_bytes = Bip39SeedGenerator(result).Generate();\n",
    "    # TODO: threadin 1\n",
    "    bip44_mst_ctx = Bip44.FromSeed(seed_bytes, Bip44Coins.BITCOIN);\n",
    "    bip44_acc_ctx = bip44_mst_ctx.Purpose().Coin().Account(0);\n",
    "    bip44_chg_ctx = bip44_acc_ctx.Change(Bip44Changes.CHAIN_EXT);\n",
    "    # TODO: threadin 2\n",
    "    bip49_mst_ctx = Bip49.FromSeed(seed_bytes, Bip49Coins.BITCOIN);\n",
    "    bip49_acc_ctx = bip49_mst_ctx.Purpose().Coin().Account(0);\n",
    "    bip49_chg_ctx = bip49_acc_ctx.Change(Bip44Changes.CHAIN_EXT);\n",
    "    # TODO: threadin 3\n",
    "    bip84_mst_ctx = Bip84.FromSeed(seed_bytes, Bip84Coins.BITCOIN);\n",
    "    bip84_acc_ctx = bip84_mst_ctx.Purpose().Coin().Account(0);\n",
    "    bip84_chg_ctx = bip84_acc_ctx.Change(Bip44Changes.CHAIN_EXT);\n",
    "    # TODO: threadin 4\n",
    "    bip86_mst_ctx = Bip86.FromSeed(seed_bytes, Bip86Coins.BITCOIN);\n",
    "    bip86_acc_ctx = bip86_mst_ctx.Purpose().Coin().Account(0);\n",
    "    bip86_chg_ctx = bip86_acc_ctx.Change(Bip44Changes.CHAIN_EXT);\n",
    "    # print(result);\n",
    "    for i in range(20):\n",
    "        # TODO: bip32_der_ctx = bip32_mst_eth.DerivePath(\"m/44'/60'/0'/0/\" + str(i))\n",
    "\n",
    "        # TODO: threadin 1\n",
    "        bip44_addr_ctx = bip44_chg_ctx.AddressIndex(i);\n",
    "        seed44 = bip44_addr_ctx.PublicKey().ToAddress();\n",
    "        # TODO: threadin 2\n",
    "        bip49_addr_ctx = bip49_chg_ctx.AddressIndex(i);\n",
    "        seed49 = bip49_addr_ctx.PublicKey().ToAddress();\n",
    "        # TODO: threadin 3\n",
    "        bip84_addr_ctx = bip84_chg_ctx.AddressIndex(i);\n",
    "        seed84 = bip84_addr_ctx.PublicKey().ToAddress();\n",
    "        # TODO: threadin 4\n",
    "        bip86_addr_ctx = bip86_chg_ctx.AddressIndex(i);\n",
    "        seed86 = bip86_addr_ctx.PublicKey().ToAddress();\n",
    "\n",
    "        # TODO: eth_addr = EthAddrEncoder.EncodeKey(bip32_der_ctx.PublicKey().KeyObject())\n",
    "        # TODO: eth = ((eth_addr) [2:]) # если ваши адреса ETH начинаются без 0x в начале\n",
    "\n",
    "        # TODO: Раскоментировать стоку ниже, если ваши адреса ETH начинаются с 0x\n",
    "        # TODO: eth = ((eth_addr)) # если ваши адреса ETH начинаются c 0x в начале\n",
    "\n",
    "        # TODO: ПЕРЕДЕЛАТЬ НА PANDAS\n",
    "        if seed44 in add_set or seed49 in add_set or seed84 in add_set or seed86 in add_set:\n",
    "            # print(result);\n",
    "            d = open(f\"seed.txt\",\"a\");\n",
    "            d.write(str(result) + '\\n' + str(seed44) + '\\n'+ str(seed49) + '\\n'+ str(seed84) + '\\n'+ str(seed86) + '\\n');\n",
    "            d.flush();\n",
    "            d.close();\n",
    "            # (str(result) + '\\n' + str(seed44) + '\\n'+ str(seed49) + '\\n'+ str(seed84) + '\\n'+ str(seed86) + '\\n');\n",
    "        elif len(ddd) == 12: print('OK' if isOk(ddd, nums) else 'Invalid', 'wordlist checksum');"
   ]
  },
  {
   "cell_type": "code",
   "execution_count": 9,
   "id": "6fdd180b-f956-4812-bda1-2f0167dd1e89",
   "metadata": {
    "tags": []
   },
   "outputs": [
    {
     "name": "stderr",
     "output_type": "stream",
     "text": [
      "Идет поиск: 100%|██████████████████████████| 2048/2048 [00:08<00:00, 250.46it/s]"
     ]
    },
    {
     "name": "stdout",
     "output_type": "stream",
     "text": [
      "\n",
      "\n",
      "CPU times: user 2 µs, sys: 0 ns, total: 2 µs\n",
      "Wall time: 4.53 µs\n"
     ]
    },
    {
     "name": "stderr",
     "output_type": "stream",
     "text": [
      "\n"
     ]
    }
   ],
   "source": [
    "crypt(add_set, words);\n",
    "print('\\n');\n",
    "%time"
   ]
  }
 ],
 "metadata": {
  "kernelspec": {
   "display_name": "Python 3 (ipykernel)",
   "language": "python",
   "name": "python3"
  },
  "language_info": {
   "codemirror_mode": {
    "name": "ipython",
    "version": 3
   },
   "file_extension": ".py",
   "mimetype": "text/x-python",
   "name": "python",
   "nbconvert_exporter": "python",
   "pygments_lexer": "ipython3",
   "version": "3.10.10"
  }
 },
 "nbformat": 4,
 "nbformat_minor": 5
}
