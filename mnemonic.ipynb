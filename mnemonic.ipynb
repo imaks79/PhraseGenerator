{
 "cells": [
  {
   "cell_type": "code",
   "execution_count": 1,
   "id": "3dd9565b-10eb-4ee9-9826-bfb182141e96",
   "metadata": {
    "tags": []
   },
   "outputs": [],
   "source": [
    "import pandas as pd\n",
    "import hashlib, binascii\n",
    "import os, time, random\n",
    "\n",
    "import numba\n",
    "from numba import njit, jit, cuda\n",
    "\n",
    "from tqdm import trange"
   ]
  },
  {
   "cell_type": "code",
   "execution_count": 2,
   "id": "35c05333-2f4c-4737-bcf6-413d1aca0ce6",
   "metadata": {
    "tags": []
   },
   "outputs": [],
   "source": [
    "from bip_utils import (\n",
    "    Bip39MnemonicGenerator, Bip39MnemonicDecoder, Bip39SeedGenerator,\n",
    "    Bip39WordsNum, Bip39Languages,\n",
    "    Bip44, Bip44Coins, Bip44Changes,\n",
    "    Bip49, Bip49Coins,\n",
    "    Bip84, Bip84Coins,\n",
    "    Bip86, Bip86Coins,\n",
    "    Bip32Slip10Secp256k1, EthAddrEncoder\n",
    ")"
   ]
  },
  {
   "cell_type": "code",
   "execution_count": 3,
   "id": "d5dd01b3-8c78-4906-b810-ef3ffbe19129",
   "metadata": {
    "tags": []
   },
   "outputs": [],
   "source": [
    "BTC_PATH = os.path.join('data','btc.txt');\n",
    "ENG_PATH = os.path.join('data', 'english.txt');"
   ]
  },
  {
   "cell_type": "code",
   "execution_count": 4,
   "id": "ccdf6620-cbb2-4221-94f5-640ab9073c02",
   "metadata": {
    "tags": []
   },
   "outputs": [],
   "source": [
    "add_set = pd.read_csv(BTC_PATH, sep = \" \", header = None)[0];\n",
    "words = pd.read_csv(ENG_PATH, sep = \" \", header = None)[0];"
   ]
  },
  {
   "cell_type": "code",
   "execution_count": 5,
   "id": "53b3dc44-e7fd-41c4-8f4b-69bb88ff9107",
   "metadata": {
    "tags": []
   },
   "outputs": [],
   "source": [
    "# Консольные сообщения        \n",
    "# getmsg();\n",
    "# getmsg(list(add_set));"
   ]
  },
  {
   "cell_type": "code",
   "execution_count": 6,
   "id": "30c6f5f2-4008-4529-beb8-adaf74872582",
   "metadata": {
    "tags": []
   },
   "outputs": [],
   "source": [
    "# @jit(nopython = True)\n",
    "# @njit\n",
    "@jit(forceobj = True)\n",
    "def crypt(add_set, words):\n",
    "    # TODO: Почему цикл бесконечный\n",
    "    while True:\n",
    "        wordlist = ' '.join(random.sample(list(words), 11)).split();\n",
    "        if len(wordlist) == 11:\n",
    "            for i in trange(2048, desc = 'Идет поиск'):\n",
    "                cand = wordlist + [words[i]];\n",
    "                result = ' '.join(cand);\n",
    "                if isOk(cand, words):\n",
    "                    seedgenerator(wordlist, result);"
   ]
  },
  {
   "cell_type": "code",
   "execution_count": 7,
   "id": "86a97267-8cdc-4e22-8af7-cc23b2731cf9",
   "metadata": {
    "tags": []
   },
   "outputs": [],
   "source": [
    "def isOk(ws, words):\n",
    "    N = 0;\n",
    "    for w in ws:\n",
    "        N = (N << 11) + words.index[words == w.lower()].tolist()[0];\n",
    "    nhex = format(N, '033x');\n",
    "    h = hashlib.sha256(binascii.unhexlify(nhex[:-1])).hexdigest();\n",
    "    return h[0] == nhex[-1];"
   ]
  },
  {
   "cell_type": "code",
   "execution_count": 8,
   "id": "c864f800-3f63-403b-984e-587a392582af",
   "metadata": {
    "tags": []
   },
   "outputs": [],
   "source": [
    "def seedgenerator(ddd, result):\n",
    "    seed_bytes = Bip39SeedGenerator(result).Generate();\n",
    "    # TODO: threadin 1\n",
    "    bip44_mst_ctx = Bip44.FromSeed(seed_bytes, Bip44Coins.BITCOIN);\n",
    "    bip44_acc_ctx = bip44_mst_ctx.Purpose().Coin().Account(0);\n",
    "    bip44_chg_ctx = bip44_acc_ctx.Change(Bip44Changes.CHAIN_EXT);\n",
    "    # TODO: threadin 2\n",
    "    bip49_mst_ctx = Bip49.FromSeed(seed_bytes, Bip49Coins.BITCOIN);\n",
    "    bip49_acc_ctx = bip49_mst_ctx.Purpose().Coin().Account(0);\n",
    "    bip49_chg_ctx = bip49_acc_ctx.Change(Bip44Changes.CHAIN_EXT);\n",
    "    # TODO: threadin 3\n",
    "    bip84_mst_ctx = Bip84.FromSeed(seed_bytes, Bip84Coins.BITCOIN);\n",
    "    bip84_acc_ctx = bip84_mst_ctx.Purpose().Coin().Account(0);\n",
    "    bip84_chg_ctx = bip84_acc_ctx.Change(Bip44Changes.CHAIN_EXT);\n",
    "    # TODO: threadin 4\n",
    "    bip86_mst_ctx = Bip86.FromSeed(seed_bytes, Bip86Coins.BITCOIN);\n",
    "    bip86_acc_ctx = bip86_mst_ctx.Purpose().Coin().Account(0);\n",
    "    bip86_chg_ctx = bip86_acc_ctx.Change(Bip44Changes.CHAIN_EXT);\n",
    "    # print(result);\n",
    "    for i in range(20):\n",
    "        # TODO: bip32_der_ctx = bip32_mst_eth.DerivePath(\"m/44'/60'/0'/0/\" + str(i))\n",
    "\n",
    "        # TODO: threadin 1\n",
    "        bip44_addr_ctx = bip44_chg_ctx.AddressIndex(i);\n",
    "        seed44 = bip44_addr_ctx.PublicKey().ToAddress();\n",
    "        \n",
    "        # TODO: threadin 2\n",
    "        bip49_addr_ctx = bip49_chg_ctx.AddressIndex(i);\n",
    "        seed49 = bip49_addr_ctx.PublicKey().ToAddress();\n",
    "        \n",
    "        # TODO: threadin 3\n",
    "        bip84_addr_ctx = bip84_chg_ctx.AddressIndex(i);\n",
    "        seed84 = bip84_addr_ctx.PublicKey().ToAddress();\n",
    "        \n",
    "        # TODO: threadin 4\n",
    "        bip86_addr_ctx = bip86_chg_ctx.AddressIndex(i);\n",
    "        seed86 = bip86_addr_ctx.PublicKey().ToAddress();\n",
    "\n",
    "        # TODO: eth_addr = EthAddrEncoder.EncodeKey(bip32_der_ctx.PublicKey().KeyObject())\n",
    "        # TODO: eth = ((eth_addr) [2:]) # если ваши адреса ETH начинаются без 0x в начале\n",
    "\n",
    "        # TODO: Раскоментировать стоку ниже, если ваши адреса ETH начинаются с 0x\n",
    "        # TODO: eth = ((eth_addr)) # если ваши адреса ETH начинаются c 0x в начале\n",
    "\n",
    "        # TODO: ПЕРЕДЕЛАТЬ НА PANDAS\n",
    "        if seed44 in add_set or seed49 in add_set or seed84 in add_set or seed86 in add_set:\n",
    "            # print(result);\n",
    "            d = open(f\"seed.txt\",\"a\");\n",
    "            d.write(str(result) + '\\n' + str(seed44) + '\\n'+ str(seed49) + '\\n'+ str(seed84) + '\\n'+ str(seed86) + '\\n');\n",
    "            d.flush();\n",
    "            d.close();\n",
    "        elif len(ddd) == 12: print('OK' if isOk(ddd, nums) else 'Invalid', 'wordlist checksum');"
   ]
  },
  {
   "cell_type": "code",
   "execution_count": 9,
   "id": "6fdd180b-f956-4812-bda1-2f0167dd1e89",
   "metadata": {
    "tags": []
   },
   "outputs": [
    {
     "name": "stderr",
     "output_type": "stream",
     "text": [
      "Идет поиск: 100%|██████████████████████████| 2048/2048 [00:08<00:00, 247.01it/s]\n",
      "Идет поиск: 100%|██████████████████████████| 2048/2048 [00:08<00:00, 241.79it/s]\n",
      "Идет поиск: 100%|██████████████████████████| 2048/2048 [00:08<00:00, 253.64it/s]\n",
      "Идет поиск: 100%|██████████████████████████| 2048/2048 [00:07<00:00, 265.08it/s]\n",
      "Идет поиск: 100%|██████████████████████████| 2048/2048 [00:07<00:00, 263.77it/s]\n",
      "Идет поиск: 100%|██████████████████████████| 2048/2048 [00:07<00:00, 266.26it/s]\n",
      "Идет поиск: 100%|██████████████████████████| 2048/2048 [00:08<00:00, 249.59it/s]\n",
      "Идет поиск: 100%|██████████████████████████| 2048/2048 [00:08<00:00, 246.66it/s]\n",
      "Идет поиск: 100%|██████████████████████████| 2048/2048 [00:08<00:00, 243.16it/s]\n",
      "Идет поиск: 100%|██████████████████████████| 2048/2048 [00:07<00:00, 259.00it/s]\n",
      "Идет поиск: 100%|██████████████████████████| 2048/2048 [00:07<00:00, 268.12it/s]\n",
      "Идет поиск: 100%|██████████████████████████| 2048/2048 [00:09<00:00, 227.08it/s]\n",
      "Идет поиск: 100%|██████████████████████████| 2048/2048 [00:08<00:00, 235.88it/s]\n",
      "Идет поиск: 100%|██████████████████████████| 2048/2048 [00:08<00:00, 233.46it/s]\n",
      "Идет поиск: 100%|██████████████████████████| 2048/2048 [00:09<00:00, 218.04it/s]\n",
      "Идет поиск: 100%|██████████████████████████| 2048/2048 [00:08<00:00, 234.79it/s]\n",
      "Идет поиск: 100%|██████████████████████████| 2048/2048 [00:08<00:00, 250.34it/s]\n",
      "Идет поиск: 100%|██████████████████████████| 2048/2048 [00:08<00:00, 254.24it/s]\n",
      "Идет поиск: 100%|██████████████████████████| 2048/2048 [00:09<00:00, 221.30it/s]\n",
      "Идет поиск: 100%|██████████████████████████| 2048/2048 [00:08<00:00, 244.80it/s]\n",
      "Идет поиск: 100%|██████████████████████████| 2048/2048 [00:08<00:00, 252.63it/s]\n",
      "Идет поиск: 100%|██████████████████████████| 2048/2048 [00:07<00:00, 272.66it/s]\n",
      "Идет поиск: 100%|██████████████████████████| 2048/2048 [00:07<00:00, 268.51it/s]\n",
      "Идет поиск: 100%|██████████████████████████| 2048/2048 [00:07<00:00, 267.47it/s]\n",
      "Идет поиск: 100%|██████████████████████████| 2048/2048 [00:08<00:00, 252.23it/s]\n",
      "Идет поиск: 100%|██████████████████████████| 2048/2048 [00:07<00:00, 262.03it/s]\n",
      "Идет поиск: 100%|██████████████████████████| 2048/2048 [00:07<00:00, 263.70it/s]\n",
      "Идет поиск: 100%|██████████████████████████| 2048/2048 [00:08<00:00, 245.21it/s]\n",
      "Идет поиск: 100%|██████████████████████████| 2048/2048 [00:08<00:00, 246.88it/s]\n",
      "Идет поиск:  27%|███████▎                   | 553/2048 [00:02<00:06, 238.25it/s]\n"
     ]
    },
    {
     "ename": "KeyboardInterrupt",
     "evalue": "",
     "output_type": "error",
     "traceback": [
      "\u001b[0;31m---------------------------------------------------------------------------\u001b[0m",
      "\u001b[0;31mKeyboardInterrupt\u001b[0m                         Traceback (most recent call last)",
      "File \u001b[0;32m<timed eval>:1\u001b[0m\n",
      "Cell \u001b[0;32mIn[7], line 4\u001b[0m, in \u001b[0;36misOk\u001b[0;34m(ws, words)\u001b[0m\n\u001b[1;32m      2\u001b[0m N \u001b[38;5;241m=\u001b[39m \u001b[38;5;241m0\u001b[39m;\n\u001b[1;32m      3\u001b[0m \u001b[38;5;28;01mfor\u001b[39;00m w \u001b[38;5;129;01min\u001b[39;00m ws:\n\u001b[0;32m----> 4\u001b[0m     N \u001b[38;5;241m=\u001b[39m (N \u001b[38;5;241m<<\u001b[39m \u001b[38;5;241m11\u001b[39m) \u001b[38;5;241m+\u001b[39m words\u001b[38;5;241m.\u001b[39mindex[\u001b[43mwords\u001b[49m\u001b[43m \u001b[49m\u001b[38;5;241;43m==\u001b[39;49m\u001b[43m \u001b[49m\u001b[43mw\u001b[49m\u001b[38;5;241;43m.\u001b[39;49m\u001b[43mlower\u001b[49m\u001b[43m(\u001b[49m\u001b[43m)\u001b[49m]\u001b[38;5;241m.\u001b[39mtolist()[\u001b[38;5;241m0\u001b[39m];\n\u001b[1;32m      5\u001b[0m nhex \u001b[38;5;241m=\u001b[39m \u001b[38;5;28mformat\u001b[39m(N, \u001b[38;5;124m'\u001b[39m\u001b[38;5;124m033x\u001b[39m\u001b[38;5;124m'\u001b[39m);\n\u001b[1;32m      6\u001b[0m h \u001b[38;5;241m=\u001b[39m hashlib\u001b[38;5;241m.\u001b[39msha256(binascii\u001b[38;5;241m.\u001b[39munhexlify(nhex[:\u001b[38;5;241m-\u001b[39m\u001b[38;5;241m1\u001b[39m]))\u001b[38;5;241m.\u001b[39mhexdigest();\n",
      "File \u001b[0;32m~/.local/lib/python3.10/site-packages/pandas/core/ops/common.py:81\u001b[0m, in \u001b[0;36m_unpack_zerodim_and_defer.<locals>.new_method\u001b[0;34m(self, other)\u001b[0m\n\u001b[1;32m     77\u001b[0m             \u001b[38;5;28;01mreturn\u001b[39;00m \u001b[38;5;28mNotImplemented\u001b[39m\n\u001b[1;32m     79\u001b[0m other \u001b[38;5;241m=\u001b[39m item_from_zerodim(other)\n\u001b[0;32m---> 81\u001b[0m \u001b[38;5;28;01mreturn\u001b[39;00m \u001b[43mmethod\u001b[49m\u001b[43m(\u001b[49m\u001b[38;5;28;43mself\u001b[39;49m\u001b[43m,\u001b[49m\u001b[43m \u001b[49m\u001b[43mother\u001b[49m\u001b[43m)\u001b[49m\n",
      "File \u001b[0;32m~/.local/lib/python3.10/site-packages/pandas/core/arraylike.py:40\u001b[0m, in \u001b[0;36mOpsMixin.__eq__\u001b[0;34m(self, other)\u001b[0m\n\u001b[1;32m     38\u001b[0m \u001b[38;5;129m@unpack_zerodim_and_defer\u001b[39m(\u001b[38;5;124m\"\u001b[39m\u001b[38;5;124m__eq__\u001b[39m\u001b[38;5;124m\"\u001b[39m)\n\u001b[1;32m     39\u001b[0m \u001b[38;5;28;01mdef\u001b[39;00m \u001b[38;5;21m__eq__\u001b[39m(\u001b[38;5;28mself\u001b[39m, other):\n\u001b[0;32m---> 40\u001b[0m     \u001b[38;5;28;01mreturn\u001b[39;00m \u001b[38;5;28;43mself\u001b[39;49m\u001b[38;5;241;43m.\u001b[39;49m\u001b[43m_cmp_method\u001b[49m\u001b[43m(\u001b[49m\u001b[43mother\u001b[49m\u001b[43m,\u001b[49m\u001b[43m \u001b[49m\u001b[43moperator\u001b[49m\u001b[38;5;241;43m.\u001b[39;49m\u001b[43meq\u001b[49m\u001b[43m)\u001b[49m\n",
      "File \u001b[0;32m~/.local/lib/python3.10/site-packages/pandas/core/series.py:6091\u001b[0m, in \u001b[0;36mSeries._cmp_method\u001b[0;34m(self, other, op)\u001b[0m\n\u001b[1;32m   6088\u001b[0m lvalues \u001b[38;5;241m=\u001b[39m \u001b[38;5;28mself\u001b[39m\u001b[38;5;241m.\u001b[39m_values\n\u001b[1;32m   6089\u001b[0m rvalues \u001b[38;5;241m=\u001b[39m extract_array(other, extract_numpy\u001b[38;5;241m=\u001b[39m\u001b[38;5;28;01mTrue\u001b[39;00m, extract_range\u001b[38;5;241m=\u001b[39m\u001b[38;5;28;01mTrue\u001b[39;00m)\n\u001b[0;32m-> 6091\u001b[0m \u001b[38;5;28;01mwith\u001b[39;00m np\u001b[38;5;241m.\u001b[39merrstate(\u001b[38;5;28mall\u001b[39m\u001b[38;5;241m=\u001b[39m\u001b[38;5;124m\"\u001b[39m\u001b[38;5;124mignore\u001b[39m\u001b[38;5;124m\"\u001b[39m):\n\u001b[1;32m   6092\u001b[0m     res_values \u001b[38;5;241m=\u001b[39m ops\u001b[38;5;241m.\u001b[39mcomparison_op(lvalues, rvalues, op)\n\u001b[1;32m   6094\u001b[0m \u001b[38;5;28;01mreturn\u001b[39;00m \u001b[38;5;28mself\u001b[39m\u001b[38;5;241m.\u001b[39m_construct_result(res_values, name\u001b[38;5;241m=\u001b[39mres_name)\n",
      "File \u001b[0;32m~/.local/lib/python3.10/site-packages/numpy/core/_ufunc_config.py:430\u001b[0m, in \u001b[0;36merrstate.__enter__\u001b[0;34m(self)\u001b[0m\n\u001b[1;32m    429\u001b[0m \u001b[38;5;28;01mdef\u001b[39;00m \u001b[38;5;21m__enter__\u001b[39m(\u001b[38;5;28mself\u001b[39m):\n\u001b[0;32m--> 430\u001b[0m     \u001b[38;5;28mself\u001b[39m\u001b[38;5;241m.\u001b[39moldstate \u001b[38;5;241m=\u001b[39m \u001b[43mseterr\u001b[49m\u001b[43m(\u001b[49m\u001b[38;5;241;43m*\u001b[39;49m\u001b[38;5;241;43m*\u001b[39;49m\u001b[38;5;28;43mself\u001b[39;49m\u001b[38;5;241;43m.\u001b[39;49m\u001b[43mkwargs\u001b[49m\u001b[43m)\u001b[49m\n\u001b[1;32m    431\u001b[0m     \u001b[38;5;28;01mif\u001b[39;00m \u001b[38;5;28mself\u001b[39m\u001b[38;5;241m.\u001b[39mcall \u001b[38;5;129;01mis\u001b[39;00m \u001b[38;5;129;01mnot\u001b[39;00m _Unspecified:\n\u001b[1;32m    432\u001b[0m         \u001b[38;5;28mself\u001b[39m\u001b[38;5;241m.\u001b[39moldcall \u001b[38;5;241m=\u001b[39m seterrcall(\u001b[38;5;28mself\u001b[39m\u001b[38;5;241m.\u001b[39mcall)\n",
      "File \u001b[0;32m~/.local/lib/python3.10/site-packages/numpy/core/_ufunc_config.py:110\u001b[0m, in \u001b[0;36mseterr\u001b[0;34m(all, divide, over, under, invalid)\u001b[0m\n\u001b[1;32m     34\u001b[0m \u001b[38;5;250m\u001b[39m\u001b[38;5;124;03m\"\"\"\u001b[39;00m\n\u001b[1;32m     35\u001b[0m \u001b[38;5;124;03mSet how floating-point errors are handled.\u001b[39;00m\n\u001b[1;32m     36\u001b[0m \n\u001b[0;32m   (...)\u001b[0m\n\u001b[1;32m    106\u001b[0m \n\u001b[1;32m    107\u001b[0m \u001b[38;5;124;03m\"\"\"\u001b[39;00m\n\u001b[1;32m    109\u001b[0m pyvals \u001b[38;5;241m=\u001b[39m umath\u001b[38;5;241m.\u001b[39mgeterrobj()\n\u001b[0;32m--> 110\u001b[0m old \u001b[38;5;241m=\u001b[39m \u001b[43mgeterr\u001b[49m\u001b[43m(\u001b[49m\u001b[43m)\u001b[49m\n\u001b[1;32m    112\u001b[0m \u001b[38;5;28;01mif\u001b[39;00m divide \u001b[38;5;129;01mis\u001b[39;00m \u001b[38;5;28;01mNone\u001b[39;00m:\n\u001b[1;32m    113\u001b[0m     divide \u001b[38;5;241m=\u001b[39m \u001b[38;5;28mall\u001b[39m \u001b[38;5;129;01mor\u001b[39;00m old[\u001b[38;5;124m'\u001b[39m\u001b[38;5;124mdivide\u001b[39m\u001b[38;5;124m'\u001b[39m]\n",
      "\u001b[0;31mKeyboardInterrupt\u001b[0m: "
     ]
    }
   ],
   "source": [
    "%time crypt(add_set, words);"
   ]
  }
 ],
 "metadata": {
  "kernelspec": {
   "display_name": "Python 3 (ipykernel)",
   "language": "python",
   "name": "python3"
  },
  "language_info": {
   "codemirror_mode": {
    "name": "ipython",
    "version": 3
   },
   "file_extension": ".py",
   "mimetype": "text/x-python",
   "name": "python",
   "nbconvert_exporter": "python",
   "pygments_lexer": "ipython3",
   "version": "3.10.10"
  }
 },
 "nbformat": 4,
 "nbformat_minor": 5
}
